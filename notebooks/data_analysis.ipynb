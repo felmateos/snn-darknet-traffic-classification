{
 "cells": [
  {
   "cell_type": "code",
   "execution_count": 1,
   "id": "959057d6",
   "metadata": {},
   "outputs": [],
   "source": [
    "import os"
   ]
  },
  {
   "cell_type": "code",
   "execution_count": 16,
   "id": "5a619350",
   "metadata": {},
   "outputs": [],
   "source": [
    "bening = []\n",
    "malicious = {'Merlin': [], 'Mirai-Dos': [], 'Mirai-Infection': [], 'Network-Scanning': []}\n",
    "\n",
    "for file in os.listdir('../Data'):\n",
    "    file_class = file.split('_')[0]\n",
    "    file_threat = file.split('_')[1]\n",
    "    if file_class == 'Benign':\n",
    "        bening.append(file)\n",
    "    else:\n",
    "        malicious.get(file_threat).append(file)"
   ]
  },
  {
   "cell_type": "code",
   "execution_count": 21,
   "id": "0f7e2170",
   "metadata": {},
   "outputs": [
    {
     "name": "stdout",
     "output_type": "stream",
     "text": [
      "benign: 29\n"
     ]
    }
   ],
   "source": [
    "print('benign:', len(bening))"
   ]
  },
  {
   "cell_type": "code",
   "execution_count": 31,
   "id": "23bdcec0",
   "metadata": {},
   "outputs": [
    {
     "name": "stdout",
     "output_type": "stream",
     "text": [
      "malicious:  3245 \n",
      "\n",
      "Merlin :  722 ,  22.25\n",
      "Mirai-Dos :  1171 ,  36.09\n",
      "Mirai-Infection :  1169 ,  36.02\n",
      "Network-Scanning :  183 ,  5.64\n"
     ]
    }
   ],
   "source": [
    "num_malicious = sum(len(value) for value in malicious.values())\n",
    "print('malicious: ', num_malicious, '\\n')\n",
    "\n",
    "for k,l in malicious.items():\n",
    "    print(k, ': ', len(l), ', ', (round(len(l)/num_malicious*100, 2)))"
   ]
  }
 ],
 "metadata": {
  "kernelspec": {
   "display_name": "venv",
   "language": "python",
   "name": "python3"
  },
  "language_info": {
   "codemirror_mode": {
    "name": "ipython",
    "version": 3
   },
   "file_extension": ".py",
   "mimetype": "text/x-python",
   "name": "python",
   "nbconvert_exporter": "python",
   "pygments_lexer": "ipython3",
   "version": "3.12.3"
  }
 },
 "nbformat": 4,
 "nbformat_minor": 5
}
