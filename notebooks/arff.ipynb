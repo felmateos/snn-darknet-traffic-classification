{
 "cells": [
  {
   "cell_type": "code",
   "execution_count": 1,
   "id": "e374e4d1",
   "metadata": {},
   "outputs": [
    {
     "name": "stdout",
     "output_type": "stream",
     "text": [
      "Collecting arff\n",
      "  Downloading arff-0.9.tar.gz (4.7 kB)\n",
      "  Installing build dependencies: started\n",
      "  Installing build dependencies: finished with status 'done'\n",
      "  Getting requirements to build wheel: started\n",
      "  Getting requirements to build wheel: finished with status 'done'\n",
      "  Preparing metadata (pyproject.toml): started\n",
      "  Preparing metadata (pyproject.toml): finished with status 'done'\n",
      "Building wheels for collected packages: arff\n",
      "  Building wheel for arff (pyproject.toml): started\n",
      "  Building wheel for arff (pyproject.toml): finished with status 'done'\n",
      "  Created wheel for arff: filename=arff-0.9-py3-none-any.whl size=5010 sha256=55a8debdfa3168f39875ddf9542af62360b446c49c1eda8b989070652d4b811f\n",
      "  Stored in directory: c:\\users\\felipe castro\\appdata\\local\\pip\\cache\\wheels\\a7\\30\\97\\2e32fa29b02eafc957100656820b0b66f199057de8c77a1821\n",
      "Successfully built arff\n",
      "Installing collected packages: arff\n",
      "Successfully installed arff-0.9\n",
      "Note: you may need to restart the kernel to use updated packages.\n"
     ]
    },
    {
     "name": "stderr",
     "output_type": "stream",
     "text": [
      "\n",
      "[notice] A new release of pip is available: 24.0 -> 25.0.1\n",
      "[notice] To update, run: python.exe -m pip install --upgrade pip\n"
     ]
    }
   ],
   "source": [
    "pip install arff"
   ]
  },
  {
   "cell_type": "code",
   "execution_count": 4,
   "id": "baf6c0a6",
   "metadata": {},
   "outputs": [],
   "source": [
    "import scipy"
   ]
  },
  {
   "cell_type": "code",
   "execution_count": null,
   "id": "52afda6d",
   "metadata": {},
   "outputs": [],
   "source": [
    "data = scipy.io.arff.loadarff('../data/ISCX-VPN-nonVPN-2016/Scenario B-ARFF/TimeBasedFeatures-Dataset-15s.arff')"
   ]
  },
  {
   "cell_type": "code",
   "execution_count": 18,
   "id": "b050d3d9",
   "metadata": {},
   "outputs": [],
   "source": [
    "import pandas as pd"
   ]
  },
  {
   "cell_type": "code",
   "execution_count": 28,
   "id": "93af7745",
   "metadata": {},
   "outputs": [],
   "source": [
    "df = pd.DataFrame(data[0])"
   ]
  },
  {
   "cell_type": "code",
   "execution_count": 32,
   "id": "2eccd64b",
   "metadata": {},
   "outputs": [
    {
     "data": {
      "text/html": [
       "<div>\n",
       "<style scoped>\n",
       "    .dataframe tbody tr th:only-of-type {\n",
       "        vertical-align: middle;\n",
       "    }\n",
       "\n",
       "    .dataframe tbody tr th {\n",
       "        vertical-align: top;\n",
       "    }\n",
       "\n",
       "    .dataframe thead th {\n",
       "        text-align: right;\n",
       "    }\n",
       "</style>\n",
       "<table border=\"1\" class=\"dataframe\">\n",
       "  <thead>\n",
       "    <tr style=\"text-align: right;\">\n",
       "      <th></th>\n",
       "      <th>duration</th>\n",
       "      <th>total_fiat</th>\n",
       "      <th>total_biat</th>\n",
       "      <th>min_fiat</th>\n",
       "      <th>min_biat</th>\n",
       "      <th>max_fiat</th>\n",
       "      <th>max_biat</th>\n",
       "      <th>mean_fiat</th>\n",
       "      <th>mean_biat</th>\n",
       "      <th>flowPktsPerSecond</th>\n",
       "      <th>...</th>\n",
       "      <th>std_flowiat</th>\n",
       "      <th>min_active</th>\n",
       "      <th>mean_active</th>\n",
       "      <th>max_active</th>\n",
       "      <th>std_active</th>\n",
       "      <th>min_idle</th>\n",
       "      <th>mean_idle</th>\n",
       "      <th>max_idle</th>\n",
       "      <th>std_idle</th>\n",
       "      <th>class1</th>\n",
       "    </tr>\n",
       "  </thead>\n",
       "  <tbody>\n",
       "    <tr>\n",
       "      <th>0</th>\n",
       "      <td>9368711.0</td>\n",
       "      <td>16.0</td>\n",
       "      <td>4.0</td>\n",
       "      <td>1564818.0</td>\n",
       "      <td>1549373.0</td>\n",
       "      <td>190205.285714</td>\n",
       "      <td>203290.456522</td>\n",
       "      <td>389822.391917</td>\n",
       "      <td>370323.719754</td>\n",
       "      <td>10.353612</td>\n",
       "      <td>...</td>\n",
       "      <td>267600.198443</td>\n",
       "      <td>1871488.0</td>\n",
       "      <td>1.983656e+06</td>\n",
       "      <td>2195089.0</td>\n",
       "      <td>1.832197e+05</td>\n",
       "      <td>1234883.0</td>\n",
       "      <td>1420565.0</td>\n",
       "      <td>1523088.0</td>\n",
       "      <td>161096.539275</td>\n",
       "      <td>b'CHAT'</td>\n",
       "    </tr>\n",
       "    <tr>\n",
       "      <th>1</th>\n",
       "      <td>7340238.0</td>\n",
       "      <td>18.0</td>\n",
       "      <td>4.0</td>\n",
       "      <td>1567554.0</td>\n",
       "      <td>1527893.0</td>\n",
       "      <td>165686.977273</td>\n",
       "      <td>186914.846154</td>\n",
       "      <td>317267.548742</td>\n",
       "      <td>304370.651301</td>\n",
       "      <td>11.580006</td>\n",
       "      <td>...</td>\n",
       "      <td>221462.862028</td>\n",
       "      <td>1491627.0</td>\n",
       "      <td>3.572433e+06</td>\n",
       "      <td>5653239.0</td>\n",
       "      <td>2.942704e+06</td>\n",
       "      <td>1131498.0</td>\n",
       "      <td>1324636.0</td>\n",
       "      <td>1517774.0</td>\n",
       "      <td>273138.379008</td>\n",
       "      <td>b'CHAT'</td>\n",
       "    </tr>\n",
       "    <tr>\n",
       "      <th>2</th>\n",
       "      <td>4644225.0</td>\n",
       "      <td>29.0</td>\n",
       "      <td>15.0</td>\n",
       "      <td>1270547.0</td>\n",
       "      <td>1079974.0</td>\n",
       "      <td>165865.178571</td>\n",
       "      <td>195302.130435</td>\n",
       "      <td>329473.126261</td>\n",
       "      <td>300492.588227</td>\n",
       "      <td>11.412022</td>\n",
       "      <td>...</td>\n",
       "      <td>217475.425246</td>\n",
       "      <td>1758922.0</td>\n",
       "      <td>1.758922e+06</td>\n",
       "      <td>1758922.0</td>\n",
       "      <td>0.000000e+00</td>\n",
       "      <td>1079974.0</td>\n",
       "      <td>1079974.0</td>\n",
       "      <td>1079974.0</td>\n",
       "      <td>0.000000</td>\n",
       "      <td>b'CHAT'</td>\n",
       "    </tr>\n",
       "    <tr>\n",
       "      <th>3</th>\n",
       "      <td>4978735.0</td>\n",
       "      <td>19.0</td>\n",
       "      <td>8.0</td>\n",
       "      <td>2492050.0</td>\n",
       "      <td>2457286.0</td>\n",
       "      <td>239543.250000</td>\n",
       "      <td>276596.388889</td>\n",
       "      <td>612435.304238</td>\n",
       "      <td>628339.573544</td>\n",
       "      <td>8.034169</td>\n",
       "      <td>...</td>\n",
       "      <td>436959.716436</td>\n",
       "      <td>1710925.0</td>\n",
       "      <td>2.382905e+06</td>\n",
       "      <td>3054885.0</td>\n",
       "      <td>9.503232e+05</td>\n",
       "      <td>1346073.0</td>\n",
       "      <td>1894031.5</td>\n",
       "      <td>2441990.0</td>\n",
       "      <td>774930.342317</td>\n",
       "      <td>b'CHAT'</td>\n",
       "    </tr>\n",
       "    <tr>\n",
       "      <th>4</th>\n",
       "      <td>11838189.0</td>\n",
       "      <td>19.0</td>\n",
       "      <td>10.0</td>\n",
       "      <td>3094089.0</td>\n",
       "      <td>3093543.0</td>\n",
       "      <td>243766.500000</td>\n",
       "      <td>295954.725000</td>\n",
       "      <td>599721.781709</td>\n",
       "      <td>625632.703972</td>\n",
       "      <td>7.602514</td>\n",
       "      <td>...</td>\n",
       "      <td>436129.639296</td>\n",
       "      <td>1747431.0</td>\n",
       "      <td>2.400446e+06</td>\n",
       "      <td>3240696.0</td>\n",
       "      <td>6.232744e+05</td>\n",
       "      <td>1394455.0</td>\n",
       "      <td>1983227.0</td>\n",
       "      <td>3042717.0</td>\n",
       "      <td>725987.829075</td>\n",
       "      <td>b'CHAT'</td>\n",
       "    </tr>\n",
       "  </tbody>\n",
       "</table>\n",
       "<p>5 rows × 24 columns</p>\n",
       "</div>"
      ],
      "text/plain": [
       "     duration  total_fiat  total_biat   min_fiat   min_biat       max_fiat  \\\n",
       "0   9368711.0        16.0         4.0  1564818.0  1549373.0  190205.285714   \n",
       "1   7340238.0        18.0         4.0  1567554.0  1527893.0  165686.977273   \n",
       "2   4644225.0        29.0        15.0  1270547.0  1079974.0  165865.178571   \n",
       "3   4978735.0        19.0         8.0  2492050.0  2457286.0  239543.250000   \n",
       "4  11838189.0        19.0        10.0  3094089.0  3093543.0  243766.500000   \n",
       "\n",
       "        max_biat      mean_fiat      mean_biat  flowPktsPerSecond  ...  \\\n",
       "0  203290.456522  389822.391917  370323.719754          10.353612  ...   \n",
       "1  186914.846154  317267.548742  304370.651301          11.580006  ...   \n",
       "2  195302.130435  329473.126261  300492.588227          11.412022  ...   \n",
       "3  276596.388889  612435.304238  628339.573544           8.034169  ...   \n",
       "4  295954.725000  599721.781709  625632.703972           7.602514  ...   \n",
       "\n",
       "     std_flowiat  min_active   mean_active  max_active    std_active  \\\n",
       "0  267600.198443   1871488.0  1.983656e+06   2195089.0  1.832197e+05   \n",
       "1  221462.862028   1491627.0  3.572433e+06   5653239.0  2.942704e+06   \n",
       "2  217475.425246   1758922.0  1.758922e+06   1758922.0  0.000000e+00   \n",
       "3  436959.716436   1710925.0  2.382905e+06   3054885.0  9.503232e+05   \n",
       "4  436129.639296   1747431.0  2.400446e+06   3240696.0  6.232744e+05   \n",
       "\n",
       "    min_idle  mean_idle   max_idle       std_idle   class1  \n",
       "0  1234883.0  1420565.0  1523088.0  161096.539275  b'CHAT'  \n",
       "1  1131498.0  1324636.0  1517774.0  273138.379008  b'CHAT'  \n",
       "2  1079974.0  1079974.0  1079974.0       0.000000  b'CHAT'  \n",
       "3  1346073.0  1894031.5  2441990.0  774930.342317  b'CHAT'  \n",
       "4  1394455.0  1983227.0  3042717.0  725987.829075  b'CHAT'  \n",
       "\n",
       "[5 rows x 24 columns]"
      ]
     },
     "execution_count": 32,
     "metadata": {},
     "output_type": "execute_result"
    }
   ],
   "source": [
    "df.head()"
   ]
  },
  {
   "cell_type": "code",
   "execution_count": 31,
   "id": "3afc9fcc",
   "metadata": {},
   "outputs": [
    {
     "data": {
      "text/plain": [
       "Index(['duration', 'total_fiat', 'total_biat', 'min_fiat', 'min_biat',\n",
       "       'max_fiat', 'max_biat', 'mean_fiat', 'mean_biat', 'flowPktsPerSecond',\n",
       "       'flowBytesPerSecond', 'min_flowiat', 'max_flowiat', 'mean_flowiat',\n",
       "       'std_flowiat', 'min_active', 'mean_active', 'max_active', 'std_active',\n",
       "       'min_idle', 'mean_idle', 'max_idle', 'std_idle', 'class1'],\n",
       "      dtype='object')"
      ]
     },
     "execution_count": 31,
     "metadata": {},
     "output_type": "execute_result"
    }
   ],
   "source": [
    "df.columns"
   ]
  },
  {
   "cell_type": "code",
   "execution_count": 33,
   "id": "ce6381fc",
   "metadata": {},
   "outputs": [],
   "source": [
    "df_f = df[['std_flowiat', 'flowPktsPerSecond', 'flowBytesPerSecond', 'class1']]"
   ]
  },
  {
   "cell_type": "code",
   "execution_count": 36,
   "id": "21b722bd",
   "metadata": {},
   "outputs": [
    {
     "data": {
      "text/html": [
       "<div>\n",
       "<style scoped>\n",
       "    .dataframe tbody tr th:only-of-type {\n",
       "        vertical-align: middle;\n",
       "    }\n",
       "\n",
       "    .dataframe tbody tr th {\n",
       "        vertical-align: top;\n",
       "    }\n",
       "\n",
       "    .dataframe thead th {\n",
       "        text-align: right;\n",
       "    }\n",
       "</style>\n",
       "<table border=\"1\" class=\"dataframe\">\n",
       "  <thead>\n",
       "    <tr style=\"text-align: right;\">\n",
       "      <th></th>\n",
       "      <th>std_flowiat</th>\n",
       "      <th>flowPktsPerSecond</th>\n",
       "      <th>flowBytesPerSecond</th>\n",
       "      <th>class1</th>\n",
       "    </tr>\n",
       "  </thead>\n",
       "  <tbody>\n",
       "    <tr>\n",
       "      <th>0</th>\n",
       "      <td>267600.198443</td>\n",
       "      <td>10.353612</td>\n",
       "      <td>4802.688438</td>\n",
       "      <td>b'CHAT'</td>\n",
       "    </tr>\n",
       "    <tr>\n",
       "      <th>1</th>\n",
       "      <td>221462.862028</td>\n",
       "      <td>11.580006</td>\n",
       "      <td>4340.186245</td>\n",
       "      <td>b'CHAT'</td>\n",
       "    </tr>\n",
       "    <tr>\n",
       "      <th>2</th>\n",
       "      <td>217475.425246</td>\n",
       "      <td>11.412022</td>\n",
       "      <td>4161.512416</td>\n",
       "      <td>b'CHAT'</td>\n",
       "    </tr>\n",
       "    <tr>\n",
       "      <th>3</th>\n",
       "      <td>436959.716436</td>\n",
       "      <td>8.034169</td>\n",
       "      <td>3918.666087</td>\n",
       "      <td>b'CHAT'</td>\n",
       "    </tr>\n",
       "    <tr>\n",
       "      <th>4</th>\n",
       "      <td>436129.639296</td>\n",
       "      <td>7.602514</td>\n",
       "      <td>2802.540152</td>\n",
       "      <td>b'CHAT'</td>\n",
       "    </tr>\n",
       "  </tbody>\n",
       "</table>\n",
       "</div>"
      ],
      "text/plain": [
       "     std_flowiat  flowPktsPerSecond  flowBytesPerSecond   class1\n",
       "0  267600.198443          10.353612         4802.688438  b'CHAT'\n",
       "1  221462.862028          11.580006         4340.186245  b'CHAT'\n",
       "2  217475.425246          11.412022         4161.512416  b'CHAT'\n",
       "3  436959.716436           8.034169         3918.666087  b'CHAT'\n",
       "4  436129.639296           7.602514         2802.540152  b'CHAT'"
      ]
     },
     "execution_count": 36,
     "metadata": {},
     "output_type": "execute_result"
    }
   ],
   "source": [
    "df_f.head()"
   ]
  },
  {
   "cell_type": "code",
   "execution_count": 29,
   "id": "9884e080",
   "metadata": {},
   "outputs": [
    {
     "data": {
      "text/plain": [
       "array([b'CHAT', b'FT', b'MAIL', b'STREAMING', b'VOIP', b'VPN-CHAT',\n",
       "       b'VPN-P2P', b'VPN-FT', b'VPN-MAIL', b'VPN-STREAMING', b'VPN-VOIP',\n",
       "       b'BROWSING', b'VPN-BROWSING', b'P2P'], dtype=object)"
      ]
     },
     "execution_count": 29,
     "metadata": {},
     "output_type": "execute_result"
    }
   ],
   "source": [
    "df['class1'].unique()"
   ]
  }
 ],
 "metadata": {
  "kernelspec": {
   "display_name": "venv",
   "language": "python",
   "name": "python3"
  },
  "language_info": {
   "codemirror_mode": {
    "name": "ipython",
    "version": 3
   },
   "file_extension": ".py",
   "mimetype": "text/x-python",
   "name": "python",
   "nbconvert_exporter": "python",
   "pygments_lexer": "ipython3",
   "version": "3.12.3"
  }
 },
 "nbformat": 4,
 "nbformat_minor": 5
}
